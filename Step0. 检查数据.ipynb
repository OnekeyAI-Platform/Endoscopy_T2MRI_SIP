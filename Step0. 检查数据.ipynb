{
 "cells": [
  {
   "cell_type": "markdown",
   "id": "54a15239",
   "metadata": {},
   "source": [
    "# 检查shape以及label"
   ]
  },
  {
   "cell_type": "code",
   "execution_count": null,
   "id": "d99a41d7",
   "metadata": {},
   "outputs": [],
   "source": [
    "import os, shutil\n",
    "from onekey_algo import get_param_in_cwd\n",
    "import numpy as np\n",
    "import nibabel as nib\n",
    "from glob import glob\n",
    "\n",
    "root = get_param_in_cwd('radio_dir')\n",
    "for modal in ['MR-CE', 'MR-T2', 'endoscope']:\n",
    "    for sample in os.listdir(os.path.join(root, modal)):        \n",
    "        try:\n",
    "            if modal != 'endoscope':\n",
    "                img, msk = sorted(glob(os.path.join(root, modal, sample, '*.nii.gz')), key=lambda x: os.path.getsize(x), reverse=True)\n",
    "                shutil.move(msk, os.path.join(root, modal, sample, f\"{sample}-label.nii.gz\"))\n",
    "                shutil.move(img, os.path.join(root, modal, sample, f\"{sample}.nii.gz\"))\n",
    "            else:\n",
    "                for f in os.listdir(os.path.join(root, modal, sample)):\n",
    "                    _, ext = os.path.splitext(f)\n",
    "                    shutil.move(os.path.join(root, modal, sample, f), os.path.join(root, modal, sample, f\"{sample}{ext}\"))\n",
    "        except:\n",
    "            print(modal, sample)"
   ]
  },
  {
   "cell_type": "markdown",
   "id": "88fd988a",
   "metadata": {},
   "source": [
    "# 划分数据"
   ]
  },
  {
   "cell_type": "code",
   "execution_count": null,
   "id": "b1d019a4",
   "metadata": {},
   "outputs": [],
   "source": [
    "import os\n",
    "import re\n",
    "import shutil\n",
    "import pandas as pd\n",
    "from onekey_algo.custom.components.comp2 import split_dataset4sol\n",
    "from onekey_algo import get_param_in_cwd\n",
    "from onekey_algo.custom.utils import print_join_info\n",
    "\n",
    "data = pd.read_csv(os.path.join(get_param_in_cwd('radio_dir'), 'label.csv'))\n",
    "train_data = data[data['group'] == 'train']\n",
    "test_data = data[data['group'] != 'train']\n",
    "\n",
    "rt = split_dataset4sol(train_data, train_data['label'], cv=False, n_trails=10, test_size=0.33, save_dir='.', shuffle=True, map_ext=True)\n",
    "for idx, (train, val) in enumerate(rt):\n",
    "    val['group'] = 'val'\n",
    "    rnd = pd.concat([train, val, test_data], axis=0)\n",
    "    display(rnd['group'].value_counts())\n",
    "    rnd.to_csv(f'split_info/label-RND-{idx}.csv', index=False)\n",
    "    rnd['ID'] = rnd['ID'].map(lambda x: x.replace('.gz', '.png'))\n",
    "    rnd[rnd['group'] == 'train'][['ID', 'label']].to_csv(f'split_info/train-RND-{idx}.txt', sep='\\t', header=None, index=None)\n",
    "    rnd[rnd['group'] != 'train'][['ID', 'label']].to_csv(f'split_info/val-RND-{idx}.txt', sep='\\t', header=None, index=None)\n",
    "    \n",
    "#     pd.merge(rnd[rnd['group'] == 'train'], samples.drop_duplicates('ID'), on='ID', how='inner')[['ID', 'label']].to_csv(f'split_info/train3d-RND-{idx}.txt', \n",
    "#                                                                                                   sep='\\t', header=None, index=None)\n",
    "#     pd.merge(rnd[rnd['group'] != 'train'], samples.drop_duplicates('ID'), on='ID', how='inner')[['ID', 'label']].to_csv(f'split_info/val3d-RND-{idx}.txt',\n",
    "#                                                                                                   sep='\\t', header=None, index=None)"
   ]
  },
  {
   "cell_type": "markdown",
   "id": "630aad26",
   "metadata": {},
   "source": [
    "# 划分json"
   ]
  },
  {
   "cell_type": "code",
   "execution_count": null,
   "id": "d8ffc35d",
   "metadata": {},
   "outputs": [],
   "source": [
    "root = os.path.join(get_param_in_cwd('radio_dir'), 'json')\n",
    "def split_ds(subset):\n",
    "    save2 = os.path.join(root, subset)\n",
    "    os.makedirs(save2, exist_ok=True)\n",
    "    for idx, row in data[data['group'] == subset].iterrows():\n",
    "        fname = row['ID'].replace('.nii.gz', '') + '.json'\n",
    "        shutil.copy(os.path.join(root, fname), save2)\n",
    "        \n",
    "split_ds('train')\n",
    "split_ds('test')"
   ]
  },
  {
   "cell_type": "markdown",
   "id": "3148621f",
   "metadata": {},
   "source": [
    "# 分割images, masks"
   ]
  },
  {
   "cell_type": "code",
   "execution_count": null,
   "id": "35e7f158",
   "metadata": {},
   "outputs": [],
   "source": [
    "import os, shutil\n",
    "from onekey_algo import get_param_in_cwd\n",
    "import numpy as np\n",
    "import nibabel as nib\n",
    "from glob import glob\n",
    "import re\n",
    "\n",
    "root = get_param_in_cwd('radio_dir')\n",
    "for modal in ['MR-CE', 'MR-T2']:\n",
    "    for sample in os.listdir(os.path.join(root, modal)):        \n",
    "        try:\n",
    "            img, *msks = sorted(glob(os.path.join(root, modal, sample, '*.nii.gz')), key=lambda x: os.path.getsize(x), reverse=True)\n",
    "            img_dir = os.path.join(root, modal, 'images')\n",
    "            os.makedirs(img_dir, exist_ok=True)\n",
    "            shutil.copy(img, os.path.join(img_dir, f\"{sample}.nii.gz\"))\n",
    "            for msk in msks:\n",
    "                if 'label' in msk:\n",
    "                    msk_dir = os.path.join(root, modal, 'masks')\n",
    "                elif 'infer' in msk:\n",
    "                    msk_dir = os.path.join(root, modal, msk.split('.')[1])\n",
    "                os.makedirs(msk_dir, exist_ok=True)\n",
    "                shutil.copy(msk, os.path.join(msk_dir, f\"{sample}.nii.gz\"))\n",
    "        except:\n",
    "            print(modal, sample)"
   ]
  },
  {
   "cell_type": "code",
   "execution_count": null,
   "id": "5c3dffff",
   "metadata": {},
   "outputs": [],
   "source": []
  }
 ],
 "metadata": {
  "kernelspec": {
   "display_name": "Python 3 (ipykernel)",
   "language": "python",
   "name": "python3"
  },
  "language_info": {
   "codemirror_mode": {
    "name": "ipython",
    "version": 3
   },
   "file_extension": ".py",
   "mimetype": "text/x-python",
   "name": "python",
   "nbconvert_exporter": "python",
   "pygments_lexer": "ipython3",
   "version": "3.7.12"
  }
 },
 "nbformat": 4,
 "nbformat_minor": 5
}
