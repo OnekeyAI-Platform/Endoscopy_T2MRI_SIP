{
 "cells": [
  {
   "cell_type": "code",
   "execution_count": null,
   "id": "e3ddc852",
   "metadata": {},
   "outputs": [],
   "source": [
    "import os\n",
    "import pandas as pd\n",
    "from IPython.display import display\n",
    "os.environ['KMP_DUPLICATE_LIB_OK'] = 'TRUE'\n",
    "from onekey_algo import OnekeyDS as okds\n",
    "from onekey_algo import get_param_in_cwd\n",
    "\n",
    "os.makedirs('img', exist_ok=True)\n",
    "os.makedirs('results', exist_ok=True)\n",
    "os.makedirs('features', exist_ok=True)\n",
    "\n",
    "# 设置数据目录\n",
    "task_type = 'Clinic'\n",
    "mydir = get_param_in_cwd('radio_dir') or okds.ct\n",
    "if mydir == okds.ct:\n",
    "    print(f'正在使用Onekey数据：{okds.ct}，如果不符合预期，请修改目录位置！')\n",
    "# 对应的标签文件\n",
    "group_info = get_param_in_cwd('dataset_column') or 'group'\n",
    "labelf = get_param_in_cwd('label_file')\n",
    "# 读取标签数据列名\n",
    "labels = [get_param_in_cwd('task_column') or 'label']\n",
    "rad_data = pd.read_csv('data/clinical.csv')"
   ]
  },
  {
   "cell_type": "markdown",
   "id": "59e2b71c",
   "metadata": {},
   "source": [
    "## 标注数据\n",
    "\n",
    "数据以csv格式进行存储，这里如果是其他格式，可以使用自定义函数读取出每个样本的结果。\n",
    "\n",
    "要求label_data为一个`DataFrame`格式，包括ID列以及后续的labels列，可以是多列，支持Multi-Task。"
   ]
  },
  {
   "cell_type": "code",
   "execution_count": null,
   "id": "6503b076",
   "metadata": {},
   "outputs": [],
   "source": [
    "label_data = pd.read_csv(labelf)\n",
    "label_data['ID'] = label_data['ID'].map(lambda x: f\"{x}.nii.gz\" if not (f\"{x}\".endswith('.nii.gz') or  f\"{x}\".endswith('.nii')) else x)\n",
    "label_data = label_data[['ID', 'group'] + labels]\n",
    "print(label_data['group'].value_counts())\n",
    "label_data"
   ]
  },
  {
   "cell_type": "markdown",
   "id": "fe37e701",
   "metadata": {},
   "source": [
    "## 特征拼接 \n",
    "\n",
    "将标注数据`label_data`与`rad_data`进行合并，得到训练数据。\n",
    "\n",
    "**注意：** \n",
    "1. 需要删掉ID这一列\n",
    "2. 如果发现数据少了，需要自行检查数据是否匹配。"
   ]
  },
  {
   "cell_type": "code",
   "execution_count": null,
   "id": "e1de1e4e",
   "metadata": {},
   "outputs": [],
   "source": [
    "from onekey_algo.custom.utils import print_join_info\n",
    "\n",
    "print_join_info(rad_data, label_data)\n",
    "combined_data = rad_data\n",
    "ids = combined_data['ID']\n",
    "combined_data = combined_data.drop('ID', axis=1)\n",
    "combined_data"
   ]
  },
  {
   "cell_type": "markdown",
   "id": "2f8b1f6e",
   "metadata": {},
   "source": [
    "## 获取到数据的统计信息\n",
    "\n",
    "1. count，统计样本个数。\n",
    "2. mean、std, 对应特征的均值、方差\n",
    "3. min, 25%, 50%, 75%, max，对应特征的最小值，25,50,75分位数，最大值。"
   ]
  },
  {
   "cell_type": "code",
   "execution_count": null,
   "id": "fa5c306d",
   "metadata": {},
   "outputs": [],
   "source": [
    "combined_data.describe()"
   ]
  },
  {
   "cell_type": "markdown",
   "id": "f0a13a21",
   "metadata": {},
   "source": [
    "## 正则化\n",
    "\n",
    "`normalize_df` 为onekey中正则化的API，将数据变化到0均值1方差。正则化的方法为\n",
    "\n",
    "$column = \\frac{column - mean}{std}$"
   ]
  },
  {
   "cell_type": "code",
   "execution_count": null,
   "id": "33fe3d76",
   "metadata": {},
   "outputs": [],
   "source": [
    "from onekey_algo.custom.components.comp1 import normalize_df\n",
    "data = normalize_df(combined_data, not_norm=labels, group=group_info)\n",
    "data = data.dropna(axis=1)\n",
    "data.describe()"
   ]
  },
  {
   "cell_type": "code",
   "execution_count": null,
   "id": "979a9aeb",
   "metadata": {},
   "outputs": [],
   "source": [
    "pearson_corr = data[data[group_info] == 'train'][[c for c in data.columns if c not in labels]].corr('pearson')\n",
    "# kendall_corr = data[[c for c in data.columns if c not in labels]].corr('kendall')\n",
    "# spearman_corr = data[[c for c in data.columns if c not in labels]].corr('spearman')"
   ]
  },
  {
   "cell_type": "markdown",
   "id": "e5f095c3",
   "metadata": {},
   "source": [
    "### 相关系数可视化\n",
    "\n",
    "通过修改变量名，可以可视化不同相关系数下的相关矩阵。\n",
    "\n",
    "**注意**：当特征特别多的时候（大于100），尽量不要可视化，否则运行时间会特别长。"
   ]
  },
  {
   "cell_type": "code",
   "execution_count": null,
   "id": "01558bec",
   "metadata": {},
   "outputs": [],
   "source": [
    "import seaborn as sns\n",
    "from matplotlib import pylab as plt\n",
    "from onekey_algo.custom.components.comp1 import draw_matrix\n",
    "plt.figure(figsize=(3.0, 2.0))\n",
    "\n",
    "# # 选择可视化的相关系数\n",
    "draw_matrix(pearson_corr, annot=True, cmap='YlGnBu', cbar=False)\n",
    "plt.savefig(f'img/{task_type}_feature_corr.svg', bbox_inches = 'tight')"
   ]
  },
  {
   "cell_type": "markdown",
   "id": "c8190131",
   "metadata": {},
   "source": [
    "### 聚类分析\n",
    "\n",
    "通过修改变量名，可以可视化不同相关系数下的相聚类分析矩阵。\n",
    "\n",
    "注意：当特征特别多的时候（大于100），尽量不要可视化，否则运行时间会特别长。"
   ]
  },
  {
   "cell_type": "code",
   "execution_count": null,
   "id": "dcd6297e",
   "metadata": {},
   "outputs": [],
   "source": [
    "import seaborn as sns\n",
    "import matplotlib.pyplot as plt\n",
    "\n",
    "pp = sns.clustermap(pearson_corr, linewidths=.5, figsize=(12.0, 10.0), cmap='YlGnBu')\n",
    "plt.setp(pp.ax_heatmap.get_yticklabels(), rotation=0)\n",
    "plt.savefig(f'img/{task_type}_feature_cluster.svg', bbox_inches = 'tight')"
   ]
  },
  {
   "cell_type": "markdown",
   "id": "3fcb5c23",
   "metadata": {},
   "source": [
    "### 特征筛选 -- 相关系数\n",
    "\n",
    "根据相关系数，对于相关性比较高的特征（一般文献取corr>0.9），两者保留其一。\n",
    "\n",
    "```python\n",
    "def select_feature(corr, threshold: float = 0.9, keep: int = 1, topn=10, verbose=False):\n",
    "    \"\"\"\n",
    "    * corr, 相关系数矩阵。\n",
    "    * threshold，筛选的相关系数的阈值，大于阈值的两者保留其一（可以根据keep修改，可以是其二...）。默认阈值为0.9\n",
    "    * keep，可以选择大于相关系数，保留几个，默认只保留一个。\n",
    "    * topn, 每次去掉多少重复特征。\n",
    "    * verbose，是否打印日志\n",
    "    \"\"\"\n",
    "```"
   ]
  },
  {
   "cell_type": "markdown",
   "id": "e8e31ba9",
   "metadata": {},
   "source": [
    "## 构建数据\n",
    "\n",
    "将样本的训练数据X与监督信息y分离出来，并且对训练数据进行划分，一般的划分原则为80%-20%"
   ]
  },
  {
   "cell_type": "code",
   "execution_count": null,
   "id": "4a923e73",
   "metadata": {},
   "outputs": [],
   "source": [
    "import numpy as np\n",
    "import onekey_algo.custom.components as okcomp\n",
    "from collections import OrderedDict\n",
    "n_classes = 2\n",
    "\n",
    "sel_data = data\n",
    "train_data = sel_data[(sel_data[group_info] == 'train')]\n",
    "train_ids = ids[train_data.index]\n",
    "train_data = train_data.reset_index()\n",
    "train_data = train_data.drop('index', axis=1)\n",
    "y_data = train_data[labels]\n",
    "X_data = train_data.drop(labels + [group_info], axis=1)\n",
    "\n",
    "subsets = [s for s in get_param_in_cwd('subsets') if s != 'train']\n",
    "val_datasets = OrderedDict()\n",
    "for subset in subsets:\n",
    "    val_data = sel_data[sel_data[group_info] == subset]\n",
    "    val_ids = ids[val_data.index]\n",
    "    val_data = val_data.reset_index()\n",
    "    val_data = val_data.drop('index', axis=1)\n",
    "    y_val_data = val_data[labels]\n",
    "    X_val_data = val_data.drop(labels + [group_info], axis=1)\n",
    "    val_datasets[subset] = [X_val_data, y_val_data, val_ids]\n",
    "\n",
    "y_all_data = sel_data[labels]\n",
    "X_all_data = sel_data.drop(labels + [group_info], axis=1)\n",
    "\n",
    "column_names = X_data.columns\n",
    "print(f\"训练集样本数：{X_data.shape}，\", '，'.join([f\"{subset}样本数：{d_[0].shape}\" for subset, d_ in val_datasets.items()]))"
   ]
  },
  {
   "cell_type": "markdown",
   "id": "86b7e7da",
   "metadata": {},
   "source": [
    "## 模型筛选\n",
    "\n",
    "根据筛选出来的数据，做模型的初步选择。当前主要使用到的是Onekey中的\n",
    "\n",
    "1. SVM，支持向量机，引用参考。\n",
    "2. KNN，K紧邻，引用参考。\n",
    "3. Decision Tree，决策树，引用参考。\n",
    "4. Random Forests, 随机森林，引用参考。\n",
    "5. XGBoost, bosting方法。引用参考。\n",
    "6. LightGBM, bosting方法，引用参考。"
   ]
  },
  {
   "cell_type": "code",
   "execution_count": null,
   "id": "fbab32fa",
   "metadata": {},
   "outputs": [],
   "source": [
    "model_names = get_param_in_cwd('ml_models')\n",
    "models = okcomp.comp1.create_clf_model(model_names)\n",
    "model_names = list(models.keys())"
   ]
  },
  {
   "cell_type": "markdown",
   "id": "c369ea2d",
   "metadata": {},
   "source": [
    "### 交叉验证\n",
    "\n",
    "`n_trails`指定随机次数，每次采用的是80%训练，随机20%进行测试，找到最好的模型，以及对应的最好的数据划分。\n",
    "\n",
    "\n",
    "```python\n",
    "def get_bst_split(X_data: pd.DataFrame, y_data: pd.DataFrame,\n",
    "            models: dict, test_size=0.2, metric_fn=accuracy_score, n_trails=10,\n",
    "            cv: bool = False, shuffle: bool = False, metric_cut_off: float = None, random_state=None):\n",
    "    \"\"\"\n",
    "    寻找数据集中最好的数据划分。\n",
    "    Args:\n",
    "        X_data: 训练数据\n",
    "        y_data: 监督数据\n",
    "        models: 模型名称，Dict类型、\n",
    "        test_size: 测试集比例，只有当cv=False时生效\n",
    "        metric_fn: 评价模型好坏的函数，默认准确率，可选roc_auc_score。\n",
    "        n_trails: 尝试多少次寻找最佳数据集划分。\n",
    "        cv: 是否是交叉验证，默认是False，当为True时，n_trails为交叉验证的n_fold\n",
    "        shuffle: 是否进行随机打乱\n",
    "        metric_cut_off: 当metric_fn的值达到多少时进行截断。\n",
    "        random_state: 随机种子\n",
    "\n",
    "    Returns: {'max_idx': max_idx, \"max_model\": max_model, \"max_metric\": max_metric, \"results\": results}\n",
    "\n",
    "    \"\"\"\n",
    "```\n",
    "\n",
    "**注意：这里采用了【挑数据】，如果想要严谨，请修改`n_trails=1`。**"
   ]
  },
  {
   "cell_type": "code",
   "execution_count": null,
   "id": "7bedcf86",
   "metadata": {},
   "outputs": [],
   "source": [
    "import seaborn as sns\n",
    "import matplotlib.pyplot as plt\n",
    "import pandas as pd\n",
    "from sklearn.metrics import accuracy_score, roc_auc_score\n",
    "\n",
    "# 随机使用n_trails次数据划分，找到最好的一次划分方法，并且保存在results中。\n",
    "results = okcomp.comp1.get_bst_split(X_data, y_data, models, test_size=0.2, metric_fn=roc_auc_score, n_trails=5, cv=True, random_state=0)\n",
    "# _, (X_train_sel, X_test_sel, y_train_sel, y_test_sel) = results['results'][results['max_idx']]\n",
    "trails, _ = zip(*results['results'])\n",
    "cv_results = pd.DataFrame(trails, columns=model_names)\n",
    "# 可视化每个模型在不同的数据划分中的效果。\n",
    "sns.barplot(data=cv_results)\n",
    "plt.ylabel('AUC %')\n",
    "plt.xlabel('Model Nmae')\n",
    "plt.xticks(rotation=90)\n",
    "plt.ylim(0.5,)\n",
    "plt.savefig(f'img/{task_type}_model_cv.svg', bbox_inches = 'tight')"
   ]
  },
  {
   "cell_type": "markdown",
   "id": "2ac7440e",
   "metadata": {},
   "source": [
    "## 模型筛选\n",
    "\n",
    "使用最好的数据划分，进行后续的模型研究。\n",
    "\n",
    "**注意**: 一般情况下论文使用的是随机划分的数据，但也有些论文使用【刻意】筛选的数据划分。"
   ]
  },
  {
   "cell_type": "code",
   "execution_count": null,
   "id": "7158f70a",
   "metadata": {
    "scrolled": true
   },
   "outputs": [],
   "source": [
    "import joblib\n",
    "from onekey_algo.custom.components.comp1 import plot_feature_importance, smote_resample\n",
    "from sklearn.ensemble import ExtraTreesClassifier, RandomForestClassifier\n",
    "from xgboost import XGBClassifier\n",
    "from lightgbm import LGBMClassifier\n",
    "from sklearn.linear_model import LogisticRegression\n",
    "from sklearn.svm import SVC\n",
    "\n",
    "targets = []\n",
    "os.makedirs('models', exist_ok=True)\n",
    "for l in labels:\n",
    "    new_models = okcomp.comp1.create_clf_model(model_names)\n",
    "    new_models['LR'] = LogisticRegression(penalty='l2', max_iter=100)\n",
    "    new_models['SVM'] = SVC(probability=True, kernel='rbf', max_iter=400)\n",
    "#     new_models['LightGBM'] = LGBMClassifier(n_estimators=3, max_depth=2, random_state=0)\n",
    "    new_models['RandomForest'] = RandomForestClassifier(n_estimators=3, max_depth=2,\n",
    "                                                        min_samples_split=2, random_state=0)\n",
    "#     new_models['ExtraTrees'] = ExtraTreesClassifier(n_estimators=2, max_depth=1, min_samples_split=2, random_state=0)\n",
    "#     new_models['XGBoost'] = XGBClassifier(n_estimators=2, objective='binary:logistic', max_depth=3, min_child_weight=2,\n",
    "#                                               use_label_encoder=False, eval_metric='error')\n",
    "    model_names = list(new_models.keys())\n",
    "    new_models = list(new_models.values())\n",
    "    for mn, m in zip(model_names, new_models):        \n",
    "        X_train_sel, y_train_sel = X_data, y_data\n",
    "        X_train_sel, y_train_sel = smote_resample(X_train_sel, y_train_sel)\n",
    "        m.fit(X_train_sel, y_train_sel[l])\n",
    "        # 保存训练的模型\n",
    "#         joblib.dump(m, f'models/{task_type}_{mn}_{l}.pkl') \n",
    "        # 输出模型特征重要性，只针对高级树模型有用\n",
    "#         plot_feature_importance(m, selected_features[0], save_dir='img', prefix=f\"{task_type}_\")\n",
    "    targets.append(new_models)"
   ]
  },
  {
   "cell_type": "code",
   "execution_count": null,
   "id": "ba87adcf",
   "metadata": {},
   "outputs": [],
   "source": [
    "from sklearn.metrics import accuracy_score\n",
    "from sklearn.preprocessing import OneHotEncoder\n",
    "from onekey_algo.custom.components.delong import calc_95_CI\n",
    "from onekey_algo.custom.components.metrics import analysis_pred_binary\n",
    "\n",
    "metric = []\n",
    "pred_sel_idx = []\n",
    "X_train_sel, y_train_sel = X_data, y_data\n",
    "predictions = [[(model.predict(X_train_sel), \n",
    "                 [(model.predict(X_val_sel), y_val_sel) for X_val_sel, y_val_sel, _ in val_datasets.values()])  \n",
    "                for model in target] for label, target in zip(labels, targets)]\n",
    "pred_scores = [[(model.predict_proba(X_train_sel), \n",
    "                 [(model.predict_proba(X_val_sel), y_val_sel) for X_val_sel, y_val_sel, _ in val_datasets.values()]) \n",
    "                for model in target] for label, target in zip(labels, targets)]\n",
    "\n",
    "# predictions[0].append(dl_preds)\n",
    "# pred_scores[0].append(dl_pred_scores)\n",
    "# model_names.extend(['WG', 'WOG'])\n",
    "for label, prediction, scores in zip(labels, predictions, pred_scores):\n",
    "    for mname, (train_pred, val_preds), (train_score, val_scores) in zip(model_names, prediction, scores):\n",
    "        # 计算训练集指数\n",
    "        acc, auc, ci, tpr, tnr, ppv, npv, precision, recall, f1, thres = analysis_pred_binary(y_train_sel[label], \n",
    "                                                                                              train_score[:, 1], use_youden=False)\n",
    "        ci = f\"{ci[0]:.3f} - {ci[1]:.3f}\"\n",
    "        metric.append((mname, acc, auc, ci, tpr, tnr, ppv, npv, precision, recall, f1, thres, f\"train\"))\n",
    "        for subset, (val_score, y_val_sel) in zip(val_datasets.keys(), val_scores):\n",
    "            acc, auc, ci, tpr, tnr, ppv, npv, precision, recall, f1, thres = analysis_pred_binary(y_val_sel[label], \n",
    "                                                                                                  val_score[:, 1], use_youden=False)\n",
    "            ci = f\"{ci[0]:.3f} - {ci[1]:.3f}\"\n",
    "            metric.append((mname, acc, auc, ci, tpr, tnr, ppv, npv, precision, recall, f1, thres, subset))\n",
    "metric = pd.DataFrame(metric, index=None, columns=['model_name', 'Accuracy', 'AUC', '95% CI',\n",
    "                                                   'Sensitivity', 'Specificity', 'PPV', 'NPV', 'Precision', 'Recall', 'F1',\n",
    "                                                   'Threshold', 'Cohort'])\n",
    "metric"
   ]
  },
  {
   "cell_type": "markdown",
   "id": "efcb0926",
   "metadata": {},
   "source": [
    "### 绘制曲线\n",
    "\n",
    "绘制的不同模型的准确率柱状图和折线图曲线。"
   ]
  },
  {
   "cell_type": "code",
   "execution_count": null,
   "id": "71f86dcd",
   "metadata": {},
   "outputs": [],
   "source": [
    "import seaborn as sns\n",
    "\n",
    "plt.figure(figsize=(15, 10))\n",
    "plt.subplot(211)\n",
    "sns.barplot(x='model_name', y='AUC', data=metric, hue='Cohort', hue_order=['train'] + subsets)\n",
    "plt.legend(loc = 'lower right')\n",
    "plt.ylim(0.5,)\n",
    "plt.subplot(212)\n",
    "sns.barplot(x='Cohort', y='AUC', data=metric, hue='model_name')\n",
    "plt.legend(loc = 'lower right')\n",
    "plt.ylim(0.5,)\n",
    "plt.savefig(f'img/{task_type}_model_acc.svg', bbox_inches = 'tight')"
   ]
  },
  {
   "cell_type": "markdown",
   "id": "3f5585c2",
   "metadata": {},
   "source": [
    "### 绘制ROC曲线\n",
    "确定最好的模型，并且绘制曲线。\n",
    "\n",
    "```python\n",
    "def draw_roc(y_test, y_score, title='ROC', labels=None):\n",
    "```\n",
    "\n",
    "`sel_model = ['SVM', 'KNN']`参数为想要绘制的模型对应的参数。"
   ]
  },
  {
   "cell_type": "code",
   "execution_count": null,
   "id": "b610f5d0",
   "metadata": {
    "scrolled": true
   },
   "outputs": [],
   "source": [
    "sel_model = model_names\n",
    "\n",
    "for sm in sel_model:\n",
    "    if sm in model_names:\n",
    "        sel_model_idx = model_names.index(sm)\n",
    "    \n",
    "        # Plot all ROC curves\n",
    "        plt.figure(figsize=(10, 10))\n",
    "        for pred_score, label in zip(pred_scores, labels):\n",
    "            ys = [np.array(y_train_sel[label])] + [np.array(y_val_sel[label]) for _, y_val_sel, _ in val_datasets.values()]\n",
    "            ps = [pred_score[sel_model_idx][0]] + [p_[0] for p_ in pred_score[sel_model_idx][1]]\n",
    "            okcomp.comp1.draw_roc(ys, ps, \n",
    "                                  labels=['Train'] + list(val_datasets.keys()), title=f\"Model: {sm}\")\n",
    "            plt.savefig(f'img/{task_type}_model_{sm}_roc.svg', bbox_inches = 'tight')\n",
    "            plt.show()"
   ]
  },
  {
   "cell_type": "markdown",
   "id": "10899ae5",
   "metadata": {},
   "source": [
    "#### 汇总所有模型"
   ]
  },
  {
   "cell_type": "code",
   "execution_count": null,
   "id": "20e770a9",
   "metadata": {
    "scrolled": false
   },
   "outputs": [],
   "source": [
    "sel_model = model_names\n",
    "\n",
    "for pred_score, label in zip(pred_scores, labels):\n",
    "    pred_val_scores = []\n",
    "    for sm in sel_model:\n",
    "        if sm in model_names:\n",
    "            sel_model_idx = model_names.index(sm)\n",
    "            pred_val_scores.append((pred_score[sel_model_idx][0], y_train_sel))\n",
    "    p_, l_ = zip(*pred_val_scores)\n",
    "    okcomp.comp1.draw_roc(l_, p_, labels=sel_model, title=f\"Cohort train AUC\")\n",
    "    plt.savefig(f'img/{task_type}_model_train_roc.svg', bbox_inches = 'tight')\n",
    "    plt.show()\n",
    "    for sel_subset_idx, subset in enumerate(val_datasets.keys()):\n",
    "        pred_val_scores = []\n",
    "        for sm in sel_model:\n",
    "            if sm in model_names:\n",
    "                sel_model_idx = model_names.index(sm)\n",
    "                pred_val_scores.append(pred_score[sel_model_idx][1][sel_subset_idx])\n",
    "        p_, l_ = zip(*pred_val_scores)\n",
    "        okcomp.comp1.draw_roc(l_, p_, labels=sel_model, title=f\"Cohort {subset} AUC\")\n",
    "        plt.savefig(f'img/{task_type}_model_{subset}_roc.svg', bbox_inches = 'tight')\n",
    "        plt.show()"
   ]
  },
  {
   "cell_type": "markdown",
   "id": "24e955e3",
   "metadata": {},
   "source": [
    "### DCA 决策曲线"
   ]
  },
  {
   "cell_type": "markdown",
   "id": "96ae6a46",
   "metadata": {},
   "source": [
    "### 绘制混淆矩阵\n",
    "\n",
    "绘制混淆矩阵，[混淆矩阵解释](https://baike.baidu.com/item/%E6%B7%B7%E6%B7%86%E7%9F%A9%E9%98%B5/10087822?fr=aladdin)\n",
    "`sel_model = ['SVM', 'KNN']`参数为想要绘制的模型对应的参数。\n",
    "\n",
    "如果需要修改标签到名称的映射，修改`class_mapping={1:'1', 0:'0'}`"
   ]
  },
  {
   "cell_type": "code",
   "execution_count": null,
   "id": "b5012998",
   "metadata": {
    "scrolled": true
   },
   "outputs": [],
   "source": [
    "# 设置绘制参数\n",
    "sel_model = model_names\n",
    "\n",
    "label_mapping = get_param_in_cwd('label_mapping')\n",
    "for sm in sel_model:\n",
    "    if sm in model_names:\n",
    "        sel_model_idx = model_names.index(sm)\n",
    "        for idx, label in enumerate(labels):\n",
    "            for sel_subset_idx, subset in enumerate(val_datasets.keys()):\n",
    "                p_ = predictions[idx][sel_model_idx][0]\n",
    "                cm = okcomp.comp1.calc_confusion_matrix(p_, y_train_sel[label], \n",
    "                                                        class_mapping=label_mapping, num_classes=2)\n",
    "                plt.figure(figsize=(5, 4))\n",
    "                plt.title(f'Model:{sm}')\n",
    "                okcomp.comp1.draw_matrix(cm, norm=False, annot=True, cmap='Blues', fmt='.0f')\n",
    "                plt.savefig(f'img/{task_type}_model_train_{sm}_cm.svg', bbox_inches = 'tight')\n",
    "            for sel_subset_idx, subset in enumerate(val_datasets.keys()):\n",
    "                p_, l_ = predictions[idx][sel_model_idx][1][sel_subset_idx]\n",
    "                cm = okcomp.comp1.calc_confusion_matrix(p_, l_[label], \n",
    "                                                        class_mapping=label_mapping, num_classes=2)\n",
    "                plt.figure(figsize=(5, 4))\n",
    "                plt.title(f'Model:{sm}')\n",
    "                okcomp.comp1.draw_matrix(cm, norm=False, annot=True, cmap='Blues', fmt='.0f')\n",
    "                plt.savefig(f'img/{task_type}_model_{subset}_{sm}_cm.svg', bbox_inches = 'tight')"
   ]
  },
  {
   "cell_type": "markdown",
   "id": "8d9bf5f6",
   "metadata": {},
   "source": [
    "### 样本预测直方图\n",
    "\n",
    "绘制每个样本的预测结果以及对应的真实结果, 图例中label=xx可以修改成自己类别的真实标签。"
   ]
  },
  {
   "cell_type": "code",
   "execution_count": null,
   "id": "a2a77b32",
   "metadata": {
    "scrolled": true
   },
   "outputs": [],
   "source": [
    "sel_model = model_names\n",
    "c_matrix = {}\n",
    "\n",
    "for sm in sel_model:\n",
    "    if sm in model_names:\n",
    "        sel_model_idx = model_names.index(sm)\n",
    "        for idx, label in enumerate(labels):\n",
    "            for sel_subset_idx, subset in enumerate(val_datasets.keys()):\n",
    "                p_ = pred_scores[idx][sel_model_idx][0]\n",
    "                okcomp.comp1.draw_predict_score(p_, y_train_sel[label],\n",
    "                                                threshold=metric[(metric['Cohort'] == 'train') & (metric['model_name'] == sm)]['Threshold'])\n",
    "                plt.title(f'Cohort train, {sm} sample predict score')\n",
    "                plt.legend(labels=label_mapping.values(),loc=\"lower right\") \n",
    "                plt.yticks([(i - 5) / 5 for i in range (11)] ,[i / 10 for i in range (11)])\n",
    "                plt.savefig(f'img/{task_type}_train_{sm}_sample_dis.svg', bbox_inches = 'tight')\n",
    "                plt.show()\n",
    "            for sel_subset_idx, subset in enumerate(val_datasets.keys()):\n",
    "                p_, l_ = pred_scores[idx][sel_model_idx][1][sel_subset_idx]\n",
    "                okcomp.comp1.draw_predict_score(p_, l_[label],\n",
    "                                                threshold=metric[(metric['Cohort'] == subset) & (metric['model_name'] == sm)]['Threshold'])\n",
    "                plt.title(f'Cohort {subset}, {sm} sample predict score')\n",
    "                plt.legend(labels=label_mapping.values(),loc=\"lower right\") \n",
    "                plt.yticks([(i - 5) / 5 for i in range (11)] ,[i / 10 for i in range (11)])\n",
    "                plt.savefig(f'img/{task_type}_{subset}_{sm}_sample_dis.svg', bbox_inches = 'tight')\n",
    "                plt.show()"
   ]
  },
  {
   "cell_type": "code",
   "execution_count": null,
   "id": "fa78e5eb",
   "metadata": {},
   "outputs": [],
   "source": [
    "import os\n",
    "import numpy as np\n",
    "\n",
    "os.makedirs('results', exist_ok=True)\n",
    "sel_model = sel_model\n",
    "\n",
    "all_log = []\n",
    "for idx, label in enumerate(labels):\n",
    "    for sm in sel_model:\n",
    "        if sm in model_names:\n",
    "            sel_model_idx = model_names.index(sm)\n",
    "            target = targets[idx][sel_model_idx]\n",
    "            # 预测训练集和测试集数据。\n",
    "            train_indexes = np.reshape(np.array(train_ids), (-1, 1)).astype(str)\n",
    "            # 保存预测的训练集和测试集结果\n",
    "            y_train_pred_scores = target.predict_proba(X_data)\n",
    "            columns = ['ID'] + [f\"{label}-{i}\"for i in range(y_train_pred_scores.shape[1])]\n",
    "            result_train = pd.DataFrame(np.concatenate([train_indexes, y_train_pred_scores], axis=1), columns=columns)\n",
    "            result_train.to_csv(f'results/{task_type}_{sm}_train.csv', index=False)\n",
    "            result_train['model'] = sm\n",
    "            result_train['pred_score'] = list(map(lambda x: max(x), \n",
    "                                                  np.array(result_train[['label-0', 'label-1']])))\n",
    "            result_train['pred_label'] = list(map(lambda x: 0 if x[0] > x[1] else 1, \n",
    "                                                  np.array(result_train[['label-0', 'label-1']])))\n",
    "            all_log.append(result_train)\n",
    "            for subset, (X_val_sel, y_val_sel, val_ids) in val_datasets.items():\n",
    "                val_indexes = np.reshape(np.array(val_ids), (-1, 1)).astype(str)\n",
    "                y_val_pred_scores = target.predict_proba(X_val_sel)\n",
    "                result_val = pd.DataFrame(np.concatenate([val_indexes, y_val_pred_scores], axis=1), columns=columns)\n",
    "                result_val.to_csv(f'results/{task_type}_{sm}_{subset}.csv', index=False)\n",
    "                result_val['model'] = sm\n",
    "                result_val['pred_score'] = list(map(lambda x: max(x), np.array(result_val[['label-0', 'label-1']])))\n",
    "                result_val['pred_label'] = list(map(lambda x: 0 if x[0] > x[1] else 1,  \n",
    "                                                    np.array(result_val[['label-0', 'label-1']])))\n",
    "                all_log.append(result_val)\n",
    "all_log = pd.concat(all_log, axis=0)"
   ]
  },
  {
   "cell_type": "code",
   "execution_count": null,
   "id": "e12213ce",
   "metadata": {},
   "outputs": [],
   "source": []
  }
 ],
 "metadata": {
  "kernelspec": {
   "display_name": "Python 3 (ipykernel)",
   "language": "python",
   "name": "python3"
  },
  "language_info": {
   "codemirror_mode": {
    "name": "ipython",
    "version": 3
   },
   "file_extension": ".py",
   "mimetype": "text/x-python",
   "name": "python",
   "nbconvert_exporter": "python",
   "pygments_lexer": "ipython3",
   "version": "3.7.12"
  }
 },
 "nbformat": 4,
 "nbformat_minor": 5
}
