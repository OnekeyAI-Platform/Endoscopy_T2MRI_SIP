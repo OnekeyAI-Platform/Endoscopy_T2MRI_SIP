{
 "cells": [
  {
   "cell_type": "markdown",
   "id": "e8b27860",
   "metadata": {},
   "source": [
    "# Which\n",
    "\n",
    "分类任务，支持2种模式\n",
    "1. COCO数据集格式，具体格式说明：https://zhuanlan.zhihu.com/p/29393415\n",
    "3. Image-Mask数据集格式，image一个文件夹，mask一个文件夹。同时一个seg_labels.txt文件，指定标签。"
   ]
  },
  {
   "cell_type": "markdown",
   "id": "4e74379f",
   "metadata": {},
   "source": [
    "### 支持的模型名称\n",
    "\n",
    "模型名称替换代码中的 `model_name`变量的值。\n",
    "\n",
    "| **模型系列** | **模型名称**                                                 |\n",
    "| ------------ | ------------------------------------------------------------ |\n",
    "| FCN      | fcn_resnet50, fcn_resnet101                                                      |\n",
    "| Deeplab          | deeplabv3_resnet50, deeplabv3_resnet101, deeplabv3_mobilenet_v3_large |\n",
    "| lraspp       | lraspp_mobilenet_v3_large |\n",
    "| Unet     | Unet           |"
   ]
  },
  {
   "cell_type": "code",
   "execution_count": null,
   "id": "d9ee6916",
   "metadata": {},
   "outputs": [],
   "source": [
    "import os\n",
    "os.environ['KMP_DUPLICATE_LIB_OK'] = 'True'\n",
    "\n",
    "from onekey_algo.scripts.core import seg_covert2voc\n",
    "\n",
    "train_dir = r'D:/20240320-RenJiLiang/json/train/'\n",
    "val_dir = r'D:/20240320-RenJiLiang/json/test/'\n",
    "save_dir = r'D:/20240320-RenJiLiang/endoscope_coco'\n",
    "partition = [0.8, 0.2]\n",
    "viz = True\n",
    "\n",
    "seg_covert2voc(train_dir=train_dir, val_dir=[val_dir], save_dir = save_dir, noviz= not viz, del_directly=True)"
   ]
  },
  {
   "cell_type": "markdown",
   "id": "fccaa71a",
   "metadata": {},
   "source": [
    "# COCO"
   ]
  },
  {
   "cell_type": "code",
   "execution_count": null,
   "id": "d49c02dd",
   "metadata": {},
   "outputs": [],
   "source": [
    "from onekey_algo.segmentation.run_segmentation import main as seg_main\n",
    "from onekey_algo import get_param_in_cwd\n",
    "import os\n",
    "# 如果自己有coco格式的数据，可以直接使用自己的目录。\n",
    "my_dir = r'D:/20240320-RenJiLiang/endoscope_coco'\n",
    "\n",
    "# 设置参数\n",
    "for model_name in ['deeplabv3_resnet101', 'fcn_resnet101',  'NestedUNet', 'UNet', ]:\n",
    "    class params:\n",
    "        dataset = r'endoscope_coco_fmt'\n",
    "        data_path = my_dir\n",
    "        model = model_name\n",
    "        lr = 0.01\n",
    "        workers = get_param_in_cwd('workers', 4)\n",
    "        batch_size = get_param_in_cwd('batch_size', 4)\n",
    "        val_batch_size = 1\n",
    "        print_freq = 8\n",
    "        epochs = get_param_in_cwd('epochs', 30)\n",
    "        optimizer = 'sgd'\n",
    "        momentum = 0.9\n",
    "        weight_decay = 1e-4\n",
    "        save_dir = os.path.join(get_param_in_cwd('radio_dir'), 'Segmentation', 'endoscope_models')\n",
    "        resume = r''\n",
    "        dist_url = 'env://'\n",
    "        world_size = 1e-4\n",
    "        pretrained = True\n",
    "        aux_loss = False\n",
    "        test_only = False\n",
    "        save_per_epoch = False\n",
    "        downsample_ratio = get_param_in_cwd('downsample_ratio', 1)\n",
    "        base_size = 512\n",
    "        crop_size = 480\n",
    "        attr = {}\n",
    "\n",
    "        def __setattr__(self, key, value):\n",
    "            self.attr[key] = value\n",
    "\n",
    "    # 训练模型\n",
    "    seg_main(params)"
   ]
  },
  {
   "cell_type": "code",
   "execution_count": null,
   "id": "175af2a8",
   "metadata": {},
   "outputs": [],
   "source": [
    "import glob\n",
    "import os\n",
    "from onekey_algo.segmentation.eval_segmentation import init, inference\n",
    "\n",
    "root = r'D:\\20240320-RenJiLiang\\Segmentation\\endoscope_coco\\models\\Unet'\n",
    "save_dir = os.path.join(root, 'predict')\n",
    "model_root = os.path.join(root, 'viz')\n",
    "\n",
    "test_samples = glob.glob(os.path.join(root, r'D:\\20240320-RenJiLiang\\Segmentation\\endoscope_coco/*/JPEGImages/', '*.jpg'))\n",
    "\n",
    "model, class_names, device = init(model_root)\n",
    "inference(test_samples, model, device=device, class_names=class_names, save_dir=save_dir)"
   ]
  },
  {
   "cell_type": "code",
   "execution_count": null,
   "id": "4c15d943",
   "metadata": {},
   "outputs": [],
   "source": [
    "import glob\n",
    "import numpy as np\n",
    "\n",
    "def calc_dice(p_cls, l_cls):\n",
    "    # cal the inter & conv\n",
    "    s = p_cls + l_cls\n",
    "    inter = len(np.where(s >= 2)[0])\n",
    "    conv = len(np.where(s >= 1)[0]) + inter\n",
    "    try:\n",
    "        dice = 2.0 * inter / conv\n",
    "    except:\n",
    "        print(\"conv is zeros when dice = 2.0 * inter / conv\")\n",
    "        dice = None\n",
    "    return dice\n",
    "\n",
    "def calc_iou(p_cls, l_cls):\n",
    "    # cal the inter & conv\n",
    "    s = p_cls + l_cls\n",
    "    inter = len(np.where(s >= 2)[0])\n",
    "    conv = len(np.where(s >= 1)[0])\n",
    "    try:\n",
    "        iou = inter / conv\n",
    "    except:\n",
    "        print(\"conv is zeros when dice = 2.0 * inter / conv\")\n",
    "        iou = None\n",
    "    return iou"
   ]
  },
  {
   "cell_type": "code",
   "execution_count": null,
   "id": "7f8b8f54",
   "metadata": {},
   "outputs": [],
   "source": [
    "import pandas as pd\n",
    "group_info = pd.read_csv('group.csv')\n",
    "group_info['ID'] = group_info['ID'].map(lambda x: x.replace('.nii.gz', '.png'))\n",
    "group_info"
   ]
  },
  {
   "cell_type": "code",
   "execution_count": null,
   "id": "3bd227ac",
   "metadata": {},
   "outputs": [],
   "source": [
    "from PIL import Image\n",
    "import pandas as pd\n",
    "import os\n",
    "\n",
    "details = []\n",
    "for model_name in ['deeplabv3_resnet101', 'fcn_resnet101', 'UNet', ]:\n",
    "    for subset in ['train', 'val', 'test']:\n",
    "        samples = glob.glob(os.path.join(rf'Y:\\20240320-RenJiLiang\\Segmentation\\endoscope_coco/*/Masks/', '*.png'))\n",
    "        sset = set(group_info[group_info['group'] == subset]['ID'])\n",
    "        for sample in [s for s in samples if os.path.basename(s) in sset]:\n",
    "            simg = Image.open(sample)\n",
    "            infer = os.path.join(r'Y:\\20240320-RenJiLiang\\Segmentation\\endoscope_coco\\models', model_name, 'predict', 'masks',\n",
    "                                 os.path.basename(sample))\n",
    "            iimg = Image.open(infer)\n",
    "            dice = calc_dice(np.array(iimg), np.array(simg))\n",
    "            iou = calc_iou(np.array(iimg), np.array(simg))\n",
    "            details.append([os.path.basename(sample), dice, iou, model_name, subset])\n",
    "details = pd.DataFrame(details, columns=['sample', 'Dice', 'mIoU', 'Model', 'Cohort'])\n",
    "details.to_csv('data/endoscope.csv', index=False)\n",
    "details"
   ]
  },
  {
   "cell_type": "code",
   "execution_count": null,
   "id": "a5660fce",
   "metadata": {},
   "outputs": [],
   "source": [
    "details.groupby(['Model', 'Cohort']).aggregate('mean').reset_index()"
   ]
  }
 ],
 "metadata": {
  "kernelspec": {
   "display_name": "Python 3 (ipykernel)",
   "language": "python",
   "name": "python3"
  },
  "language_info": {
   "codemirror_mode": {
    "name": "ipython",
    "version": 3
   },
   "file_extension": ".py",
   "mimetype": "text/x-python",
   "name": "python",
   "nbconvert_exporter": "python",
   "pygments_lexer": "ipython3",
   "version": "3.7.12"
  }
 },
 "nbformat": 4,
 "nbformat_minor": 5
}
